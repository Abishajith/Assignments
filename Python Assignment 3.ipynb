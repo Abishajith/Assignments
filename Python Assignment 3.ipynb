{
 "cells": [
  {
   "cell_type": "markdown",
   "id": "9916f133",
   "metadata": {},
   "source": [
    "# 1. Why are functions advantageous to have in your programs?\n",
    "\n",
    "Ans: Functions reduce the need for duplicate code. This makes programs shorter, easier to read, and easier to update. The main advantage of functions is code Reusability."
   ]
  },
  {
   "cell_type": "markdown",
   "id": "947dffcb",
   "metadata": {},
   "source": [
    "# 2. When does the code in a function run: when it's specified or when it's called?\n",
    "\n",
    "Ans: The code in a function executes when the function is called, not when the function is specified."
   ]
  },
  {
   "cell_type": "markdown",
   "id": "1f60a4c2",
   "metadata": {},
   "source": [
    "# 3. What statement creates a function?\n",
    "\n",
    "Ans: The def statement defines a function\n",
    "\n",
    "def function_name(arguments):\n",
    "\n",
    "    # function body \n",
    "\n",
    "    return"
   ]
  },
  {
   "cell_type": "markdown",
   "id": "e162dc3b",
   "metadata": {},
   "source": [
    "# 4. What is the difference between a function and a function call?\n",
    "\n",
    "Ans: A function is procedure to achieve a particular result. while function call is using this function to achive that task. Using a function to do a particular task any point in program is called as function call."
   ]
  },
  {
   "cell_type": "markdown",
   "id": "36486c4c",
   "metadata": {},
   "source": [
    "# 5. How many global scopes are there in a Python program? How many local scopes?\n",
    "\n",
    "Ans: There is one global scope, and a local scope is created whenever a function is called.\n",
    "\n",
    "Local Scope :A variable created inside a function belongs to the local scope of that function, and can only be used inside that function. It’s created at function call, not at function definition, so will have as many different local scopes as function calls.\n",
    "\n",
    "Global Scope : A variable created in the main body of the Python code is a global variable and belongs to the global scope.\n",
    "\n",
    "Global variables are available from within any scope, global and local."
   ]
  },
  {
   "cell_type": "markdown",
   "id": "994a5f1e",
   "metadata": {},
   "source": [
    "# 6. What happens to variables in a local scope when the function call returns?\n",
    "\n",
    "Ans:Each call of the function creates new local variables, and their lifetimes expire when the function returns to the caller."
   ]
  },
  {
   "cell_type": "markdown",
   "id": "5d918360",
   "metadata": {},
   "source": [
    "# 7. What is the concept of a return value? Is it possible to have a return value in an expression?\n",
    "\n",
    "Ans: Ans: A return value is the value that a function call evaluates to. Like any value, a return value can be used as part of an expression.\n"
   ]
  },
  {
   "cell_type": "markdown",
   "id": "c16b3c66",
   "metadata": {},
   "source": [
    "# 8. If a function does not have a return statement, what is the return value of a call to that function?\n",
    "\n",
    "If a function doesn't specify a return value, it returns None ."
   ]
  },
  {
   "cell_type": "markdown",
   "id": "581b5468",
   "metadata": {},
   "source": [
    "# 9. How do you make a function variable refer to the global variable?\n",
    "\n",
    "Ans: A global statement will force a variable in a function to refer to the global variable. If want to refer to a global variable in a function, can use the global keyword to declare which variables are global."
   ]
  },
  {
   "cell_type": "code",
   "execution_count": 1,
   "id": "5abe962f",
   "metadata": {},
   "outputs": [
    {
     "name": "stdout",
     "output_type": "stream",
     "text": [
      "Python is fantastic\n"
     ]
    }
   ],
   "source": [
    "Example:\n",
    "\n",
    "def myfunc():\n",
    "  global x\n",
    "  x = \"fantastic\"\n",
    "\n",
    "myfunc()\n",
    "\n",
    "print(\"Python is \" + x)"
   ]
  },
  {
   "cell_type": "markdown",
   "id": "d07c79ce",
   "metadata": {},
   "source": [
    "# 10. What is the data type of None?\n",
    "\n",
    "The None keyword is used to define a null value, or no value at all.\n",
    "\n",
    "None is not the same as 0, False, or an empty string. None is a data type of its own (NoneType) and only None can be None."
   ]
  },
  {
   "cell_type": "code",
   "execution_count": 3,
   "id": "5f5fa278",
   "metadata": {},
   "outputs": [
    {
     "name": "stdout",
     "output_type": "stream",
     "text": [
      "None is not True, or False, None is just None...\n"
     ]
    }
   ],
   "source": [
    "# Example; \n",
    "\n",
    "x = None\n",
    "\n",
    "if x:\n",
    "  print(\"Do you think None is True?\")\n",
    "elif x is False:\n",
    "  print (\"Do you think None is False?\")\n",
    "else:\n",
    "  print(\"None is not True, or False, None is just None...\")\n"
   ]
  },
  {
   "cell_type": "markdown",
   "id": "372fe033",
   "metadata": {},
   "source": [
    "# 11. What does the sentence import areallyourpetsnamederic do?\n",
    "\n",
    "Ans: That import statement imports a module named areallyourpetsnamederic."
   ]
  },
  {
   "cell_type": "markdown",
   "id": "ebe84e87",
   "metadata": {},
   "source": [
    "# 12. If you had a bacon() feature in a spam module, what would you call it after importing spam?\n",
    "    \n",
    " Ans: This function can be called with spam.bacon().   "
   ]
  },
  {
   "cell_type": "markdown",
   "id": "69ebd10c",
   "metadata": {},
   "source": [
    "# 13. What can you do to save a programme from crashing if it encounters an error?\n",
    "\n",
    "Ans: Place the line of code that might cause an error in a try clause and use except block to handle the error."
   ]
  },
  {
   "cell_type": "markdown",
   "id": "cec5c6e7",
   "metadata": {},
   "source": [
    "# 14. What is the purpose of the try clause? What is the purpose of the except clause?\n",
    "\n",
    "ANS:The code that could potentially cause an error goes in the try clause. The code that executes if an error happens goes in the except clause.\n",
    "\n"
   ]
  },
  {
   "cell_type": "code",
   "execution_count": 7,
   "id": "f6b6564f",
   "metadata": {},
   "outputs": [
    {
     "name": "stdout",
     "output_type": "stream",
     "text": [
      "Hello\n",
      "Nothing went wrong\n"
     ]
    }
   ],
   "source": [
    "#Example: \n",
    "try:\n",
    "  print(\"Hello\")\n",
    "except:\n",
    "  print(\"Something went wrong\")\n",
    "else:\n",
    "  print(\"Nothing went wrong\")"
   ]
  }
 ],
 "metadata": {
  "kernelspec": {
   "display_name": "Python 3 (ipykernel)",
   "language": "python",
   "name": "python3"
  },
  "language_info": {
   "codemirror_mode": {
    "name": "ipython",
    "version": 3
   },
   "file_extension": ".py",
   "mimetype": "text/x-python",
   "name": "python",
   "nbconvert_exporter": "python",
   "pygments_lexer": "ipython3",
   "version": "3.9.12"
  }
 },
 "nbformat": 4,
 "nbformat_minor": 5
}
