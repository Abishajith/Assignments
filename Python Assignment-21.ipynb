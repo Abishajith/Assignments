{
 "cells": [
  {
   "cell_type": "markdown",
   "id": "4c355268",
   "metadata": {},
   "source": [
    "# 1. Add the current date to the text file today.txt as a string."
   ]
  },
  {
   "cell_type": "code",
   "execution_count": 1,
   "id": "72dde73e",
   "metadata": {},
   "outputs": [
    {
     "name": "stdout",
     "output_type": "stream",
     "text": [
      "06-03-2023\n"
     ]
    }
   ],
   "source": [
    "import datetime\n",
    "# Code to Add current date to the today.txt file\n",
    "file = open('today.txt','w')\n",
    "file.write(datetime.datetime.now().strftime(\"%d-%m-%Y\"))\n",
    "file.close()\n",
    "# Code to Read current date from today.txt file\n",
    "file = open('today.txt','r')\n",
    "print(file.read())\n",
    "file.close()"
   ]
  },
  {
   "cell_type": "markdown",
   "id": "4328bf8d",
   "metadata": {},
   "source": [
    "# 2. Read the text file today.txt into the string today_string"
   ]
  },
  {
   "cell_type": "code",
   "execution_count": 2,
   "id": "c238da98",
   "metadata": {},
   "outputs": [
    {
     "name": "stdout",
     "output_type": "stream",
     "text": [
      "06-03-2023\n"
     ]
    }
   ],
   "source": [
    "file = open('today.txt','r')\n",
    "today_string = file.read()\n",
    "print(today_string)"
   ]
  },
  {
   "cell_type": "markdown",
   "id": "812441ba",
   "metadata": {},
   "source": [
    "# 3. Parse the date from today_string."
   ]
  },
  {
   "cell_type": "code",
   "execution_count": 4,
   "id": "346501d1",
   "metadata": {},
   "outputs": [
    {
     "name": "stdout",
     "output_type": "stream",
     "text": [
      "2023-03-06 00:00:00\n"
     ]
    }
   ],
   "source": [
    "from datetime import datetime\n",
    "parsed_data = datetime.strptime(today_string, '%d-%m-%Y')\n",
    "print(parsed_data)"
   ]
  },
  {
   "cell_type": "markdown",
   "id": "0510d792",
   "metadata": {},
   "source": [
    "# 4. List the files in your current directory"
   ]
  },
  {
   "cell_type": "code",
   "execution_count": 5,
   "id": "36262ba3",
   "metadata": {},
   "outputs": [
    {
     "name": "stdout",
     "output_type": "stream",
     "text": [
      "application_log.txt\n",
      "books.csv\n",
      "books.db\n",
      "Pic.jpg\n",
      "pic2.jpg\n",
      "Python Assignment -1.ipynb\n",
      "Python Assignment- 2.ipynb\n",
      "Python Assignment- 3.ipynb\n",
      "Python Assignment- 4.ipynb\n",
      "Python Assignment- 5.ipynb\n",
      "Python Assignment- 6.ipynb\n",
      "Python Assignment- 7.ipynb\n",
      "Python Assignment- 8.ipynb\n",
      "Python Assignment- 9.ipynb\n",
      "Python Assignment-10.ipynb\n",
      "Python Assignment-11.ipynb\n",
      "Python Assignment-12.ipynb\n",
      "Python Assignment-13.ipynb\n",
      "Python Assignment-14.ipynb\n",
      "Python Assignment-15.ipynb\n",
      "Python Assignment-16.ipynb\n",
      "Python Assignment-17.ipynb\n",
      "Python Assignment-19.ipynb\n",
      "Python Assignment-20.ipynb\n",
      "Python Assignment-21.ipynb\n",
      "test.txt\n",
      "text6.csv\n",
      "today.txt\n",
      "university_records.csv\n",
      "wooden.jpeg\n",
      "Python Assignment- 3-checkpoint.ipynb\n",
      "Python Assignment- 4-checkpoint.ipynb\n",
      "Python Assignment- 5-checkpoint.ipynb\n",
      "Python Assignment- 6-checkpoint.ipynb\n",
      "Python Assignment- 7-checkpoint.ipynb\n",
      "Python Assignment- 8-checkpoint.ipynb\n",
      "Python Assignment- 9-checkpoint.ipynb\n",
      "Python Assignment-10-checkpoint.ipynb\n",
      "Python Assignment-11-checkpoint.ipynb\n",
      "Python Assignment-12-checkpoint.ipynb\n",
      "Python Assignment-13-checkpoint.ipynb\n",
      "Python Assignment-14-checkpoint.ipynb\n",
      "Python Assignment-15-checkpoint.ipynb\n",
      "Python Assignment-16-checkpoint.ipynb\n",
      "Python Assignment-17-checkpoint.ipynb\n",
      "Python Assignment-19-checkpoint.ipynb\n",
      "Python Assignment-20-checkpoint.ipynb\n",
      "Python Assignment-21-checkpoint.ipynb\n"
     ]
    }
   ],
   "source": [
    "import os\n",
    "for folders, subfolders, files in os.walk(os.getcwd()):\n",
    "    for file in files:\n",
    "        print(file)"
   ]
  },
  {
   "cell_type": "markdown",
   "id": "41ba3577",
   "metadata": {},
   "source": [
    "# 5. Create a list of all of the files in your parent directory (minimum five files should be available)."
   ]
  },
  {
   "cell_type": "code",
   "execution_count": 6,
   "id": "adf390c5",
   "metadata": {},
   "outputs": [
    {
     "data": {
      "text/plain": [
       "['.ipynb_checkpoints',\n",
       " 'application_log.txt',\n",
       " 'books.csv',\n",
       " 'books.db',\n",
       " 'Dummy Source',\n",
       " 'Pic.jpg',\n",
       " 'pic2.jpg',\n",
       " 'Python Assignment -1.ipynb',\n",
       " 'Python Assignment- 2.ipynb',\n",
       " 'Python Assignment- 3.ipynb',\n",
       " 'Python Assignment- 4.ipynb',\n",
       " 'Python Assignment- 5.ipynb',\n",
       " 'Python Assignment- 6.ipynb',\n",
       " 'Python Assignment- 7.ipynb',\n",
       " 'Python Assignment- 8.ipynb',\n",
       " 'Python Assignment- 9.ipynb',\n",
       " 'Python Assignment-10.ipynb',\n",
       " 'Python Assignment-11.ipynb',\n",
       " 'Python Assignment-12.ipynb',\n",
       " 'Python Assignment-13.ipynb',\n",
       " 'Python Assignment-14.ipynb',\n",
       " 'Python Assignment-15.ipynb',\n",
       " 'Python Assignment-16.ipynb',\n",
       " 'Python Assignment-17.ipynb',\n",
       " 'Python Assignment-19.ipynb',\n",
       " 'Python Assignment-20.ipynb',\n",
       " 'Python Assignment-21.ipynb',\n",
       " 'test.txt',\n",
       " 'text6.csv',\n",
       " 'today.txt',\n",
       " 'university_records.csv',\n",
       " 'wooden.jpeg']"
      ]
     },
     "execution_count": 6,
     "metadata": {},
     "output_type": "execute_result"
    }
   ],
   "source": [
    "import os \n",
    "os.listdir()"
   ]
  },
  {
   "cell_type": "markdown",
   "id": "8eb94a8c",
   "metadata": {},
   "source": [
    "# 6. Use multiprocessing to create three separate processes. Make each one wait a random number of seconds between one and five, print the current time, and then exit."
   ]
  },
  {
   "cell_type": "code",
   "execution_count": 8,
   "id": "c75745dc",
   "metadata": {},
   "outputs": [],
   "source": [
    "import multiprocessing\n",
    "import time \n",
    "import random\n",
    "import datetime\n",
    "\n",
    "def procOne():\n",
    "    print(f'Proc_one_Starttime -> {datetime.datetime.now()}')\n",
    "    time.sleep(random.randint(1,5))\n",
    "    print(f'Proc_one_Endtime -> {datetime.datetime.now()}')\n",
    "    \n",
    "def procTwo():\n",
    "    print(f'Proc_two_Starttime -> {datetime.datetime.now()}')\n",
    "    time.sleep(random.randint(1,5))\n",
    "    print(f'Proc_two_Endtime -> {datetime.datetime.now()}')\n",
    "\n",
    "def procThree():\n",
    "    print(f'Proc_two_Starttime -> {datetime.datetime.now()}')\n",
    "    time.sleep(random.randint(1,5))\n",
    "    print(f'Proc_two_Endtime -> {datetime.datetime.now()}')\n",
    "    \n",
    "if __name__ == \"__main__\":    \n",
    "    p1 = multiprocessing.Process(target=procOne)\n",
    "    p2 = multiprocessing.Process(target=procTwo)\n",
    "    p3 = multiprocessing.Process(target=procThree)\n",
    "\n",
    "    p1.start()\n",
    "    p2.start()\n",
    "    p3.start()\n",
    "\n",
    "    p1.join()\n",
    "    p2.join()\n",
    "    p3.join()"
   ]
  },
  {
   "cell_type": "markdown",
   "id": "8935f05f",
   "metadata": {},
   "source": [
    "# 7. Create a date object of your day of birth."
   ]
  },
  {
   "cell_type": "code",
   "execution_count": 9,
   "id": "f89d1d9b",
   "metadata": {},
   "outputs": [
    {
     "name": "stdout",
     "output_type": "stream",
     "text": [
      "1997-04-22 00:00:00 <class 'datetime.datetime'>\n"
     ]
    }
   ],
   "source": [
    "from datetime import datetime\n",
    "my_dob = datetime.strptime('22/04/1997','%d/%m/%Y')\n",
    "print(my_dob, type(my_dob))"
   ]
  },
  {
   "cell_type": "markdown",
   "id": "967f0dd6",
   "metadata": {},
   "source": [
    "# 8. What day of the week was your day of birth?"
   ]
  },
  {
   "cell_type": "code",
   "execution_count": 10,
   "id": "268f18a4",
   "metadata": {},
   "outputs": [
    {
     "data": {
      "text/plain": [
       "'Tuesday'"
      ]
     },
     "execution_count": 10,
     "metadata": {},
     "output_type": "execute_result"
    }
   ],
   "source": [
    "from datetime import datetime\n",
    "my_dob = datetime(1997,4,22)\n",
    "my_dob.strftime(\"%A\")"
   ]
  },
  {
   "cell_type": "markdown",
   "id": "6cfd0182",
   "metadata": {},
   "source": [
    "# 9. When will you be (or when were you) 10,000 days old?"
   ]
  },
  {
   "cell_type": "code",
   "execution_count": 11,
   "id": "2801c908",
   "metadata": {},
   "outputs": [
    {
     "data": {
      "text/plain": [
       "datetime.datetime(1969, 12, 5, 0, 0)"
      ]
     },
     "execution_count": 11,
     "metadata": {},
     "output_type": "execute_result"
    }
   ],
   "source": [
    "from datetime import datetime, timedelta\n",
    "my_dob = datetime.strptime(\"22/04/1997\",'%d/%m/%Y')\n",
    "future_date = my_dob-timedelta(10000)\n",
    "future_date"
   ]
  },
  {
   "cell_type": "code",
   "execution_count": null,
   "id": "0142d174",
   "metadata": {},
   "outputs": [],
   "source": []
  }
 ],
 "metadata": {
  "kernelspec": {
   "display_name": "Python 3 (ipykernel)",
   "language": "python",
   "name": "python3"
  },
  "language_info": {
   "codemirror_mode": {
    "name": "ipython",
    "version": 3
   },
   "file_extension": ".py",
   "mimetype": "text/x-python",
   "name": "python",
   "nbconvert_exporter": "python",
   "pygments_lexer": "ipython3",
   "version": "3.9.12"
  }
 },
 "nbformat": 4,
 "nbformat_minor": 5
}
